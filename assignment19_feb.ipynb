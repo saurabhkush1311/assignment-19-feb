{
 "cells": [
  {
   "cell_type": "code",
   "execution_count": null,
   "id": "1272ab83-a38c-4bb5-9880-bef9d17a80d2",
   "metadata": {},
   "outputs": [],
   "source": [
    "#Question1:\n",
    "#Answer:\n",
    "\"\"\"\n",
    "\n",
    "Flask is a lightweight and popular web framework for Python.\n",
    "It is designed to be minimalistic and straightforward,\n",
    "allowing developers to build web applications quickly and efficiently.\n",
    "\n",
    "Advantages of Flask Framework:\n",
    "1.Simplicity and Minimalism\n",
    "2.Easy to Learn and Use\n",
    "3.Flexibility and Customizability\n",
    "4.Lightweight and Fast\n",
    "5.Built-in Development Server\n",
    "6.Python Integration etc.\n",
    "\n",
    "\"\"\""
   ]
  },
  {
   "cell_type": "code",
   "execution_count": null,
   "id": "e93fe540-01eb-4ce7-8d59-ba704a9aef89",
   "metadata": {},
   "outputs": [],
   "source": [
    "#Question2:\n",
    "#Answer:\n",
    "#trying too much but unable to insert image:\n",
    "from flask import Flask\n",
    "\n",
    "app = Flask(__name__)\n",
    "\n",
    "@app.route(\"/\")\n",
    "def hello_world():\n",
    "    return \"<h1>Hello World!!</h1>\"\n",
    "\n",
    "if __name__==\"__main__\":\n",
    "    app.run(host=\"0.0.0.0\")\n"
   ]
  },
  {
   "cell_type": "code",
   "execution_count": null,
   "id": "19d4873e-9106-4d80-ba9f-ee8d65a9c340",
   "metadata": {},
   "outputs": [],
   "source": [
    "#Question3:\n",
    "#Answer:\n",
    "\"\"\"\n",
    "In Flask, app routing refers to the process of defining URL patterns (routes)\n",
    "that map to specific view functions in your web application.\n",
    "These routes determine how different URLs will be handled by your Flask application and\n",
    "what content or response will be returned to the client when those URLs are accessed.\n",
    "\n",
    "To define a route in Flask, you use the @app.route() decorator.\n",
    "It is a Python decorator that associates a URL path (or pattern) with a specific view function.\n",
    "The view function is responsible for processing the client's request, performing any necessary actions,\n",
    "and returning the appropriate response.\n",
    "\n",
    "\"\"\"\n",
    "from flask import Flask\n",
    "\n",
    "app = Flask(__name__)\n",
    "\n",
    "@app.route(\"/\")\n",
    "def hello_world():\n",
    "    return \"<h1>Hello World!!</h1>\"\n",
    "\n",
    "if __name__==\"__main__\":\n",
    "    app.run(host=\"0.0.0.0\")"
   ]
  },
  {
   "cell_type": "code",
   "execution_count": null,
   "id": "409b4af1-2c04-46c6-a611-b1426b4417c9",
   "metadata": {},
   "outputs": [],
   "source": [
    "#Question4:\n",
    "#Answer:\n",
    "#trying to inserting image but failed to insert.\n",
    "from flask import Flask\n",
    "\n",
    "app = Flask(__name__)\n",
    "\n",
    "@app.route(\"/\")\n",
    "def company():\n",
    "    return '''Company Name: ABC Corporation,\n",
    "             Location: India,\n",
    "             Contact Detail: 999-999-9999\n",
    "             '''\n",
    "\n",
    "@app.route(\"/welcome\")\n",
    "def welcome_msg():\n",
    "    return \"Welcome to ABC Corporation\"\n",
    "\n",
    "\n",
    "if __name__==\"__main__\":\n",
    "    app.run(host=\"0.0.0.0\")\n"
   ]
  },
  {
   "cell_type": "code",
   "execution_count": null,
   "id": "8ed9d65b-b408-401b-b94a-b42782a84333",
   "metadata": {},
   "outputs": [],
   "source": [
    "#Question5:\n",
    "#Answer:\n",
    "#In Flask, the url_for() function is used for URL building. \n",
    "from flask import Flask, url_for\n",
    "\n",
    "app = Flask(__name__)\n",
    "\n",
    "@app.route('/welcome')\n",
    "def welcome():\n",
    "    return 'Welcome to ABC Corporation'\n",
    "\n",
    "@app.route('/')\n",
    "def index():\n",
    "    # Using url_for() to generate the URL for the 'welcome' function\n",
    "    welcome_url = url_for('welcome')\n",
    "    return f'To visit the welcome page, go to: {welcome_url}'\n",
    "\n",
    "if __name__ == '__main__':\n",
    "    app.run(host=\"0.0.0.0\")\n"
   ]
  }
 ],
 "metadata": {
  "kernelspec": {
   "display_name": "Python 3 (ipykernel)",
   "language": "python",
   "name": "python3"
  },
  "language_info": {
   "codemirror_mode": {
    "name": "ipython",
    "version": 3
   },
   "file_extension": ".py",
   "mimetype": "text/x-python",
   "name": "python",
   "nbconvert_exporter": "python",
   "pygments_lexer": "ipython3",
   "version": "3.10.6"
  }
 },
 "nbformat": 4,
 "nbformat_minor": 5
}
